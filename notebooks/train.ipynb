{
 "cells": [
  {
   "cell_type": "code",
   "execution_count": 1,
   "metadata": {},
   "outputs": [
    {
     "name": "stdout",
     "output_type": "stream",
     "text": [
      "/home/sergevkim/git/FacesClassification\n"
     ]
    }
   ],
   "source": [
    "%cd ..\n",
    "'''\n",
    "We need to use 'lib' module\n",
    "'''\n",
    "\n",
    "import torch\n",
    "from torch.nn import BCELoss\n",
    "from torch.optim import Adam\n",
    "from torchvision.models import resnet18\n",
    "\n",
    "from lib.models import SimpleClassifier, ResNet\n",
    "from lib.trainer import Trainer\n",
    "from lib.utils import train_parse_args\n",
    "from lib.utils.data import get_data_loaders\n",
    "from lib.constants import HYPERPARAMETERS, PATHS"
   ]
  },
  {
   "cell_type": "code",
   "execution_count": 3,
   "metadata": {},
   "outputs": [
    {
     "name": "stdout",
     "output_type": "stream",
     "text": [
      "batch_size : \t16\n",
      "disable_cuda : \tFalse\n",
      "label : \tYoung\n",
      "n_epochs : \t20\n",
      "n_imgs : \t29999\n",
      "test_size : \t0.1\n",
      "verbose : \tTrue\n",
      "version : \t1.0\n",
      "checkpoints_dir : \t/home/sergevkim/git/FacesClassification/checkpoints\n",
      "checkpoint_filename : \t\n",
      "imgs_dir : \t/home/sergevkim/git/FacesClassification/data/CelebaHQ\n",
      "labels_filename : \t/home/sergevkim/git/FacesClassification/data/labels.txt\n",
      "logs_dir : \t/home/sergevkim/git/FacesClassification/logs\n",
      "device : \tcuda:0\n"
     ]
    }
   ],
   "source": [
    "params = {**HYPERPARAMETERS, **PATHS}\n",
    "params['batch_size'] = 16\n",
    "params['label'] = 'Young'\n",
    "params['n_epochs'] = 20\n",
    "params['verbose'] = True\n",
    "params['version'] = '1.0'\n",
    "\n",
    "if not params['disable_cuda'] and torch.cuda.is_available():\n",
    "    params['device'] = torch.device('cuda:0')\n",
    "else:\n",
    "    params['device'] = torch.device('cpu')\n",
    "    \n",
    "for p in params:\n",
    "    print(f\"{p} : \\t{params[p]}\")"
   ]
  },
  {
   "cell_type": "code",
   "execution_count": null,
   "metadata": {},
   "outputs": [
    {
     "name": "stdout",
     "output_type": "stream",
     "text": [
      "valid 0 0.8125\n"
     ]
    }
   ],
   "source": [
    "loaders = get_data_loaders(\n",
    "    imgs_dir=params['imgs_dir'],\n",
    "    labels_filename=params['labels_filename'],\n",
    "    batch_size=params['batch_size'],\n",
    "    n_imgs=params['n_imgs'],\n",
    "    label=params['label'],\n",
    "    test_size=params['test_size'])\n",
    "\n",
    "model = ResNet(pretrained=False).to(params['device'])\n",
    "optimizer = Adam(model.parameters(), lr=3e-4)\n",
    "criterion = BCELoss()\n",
    "trainer = Trainer(\n",
    "    params=params,\n",
    "    model=model,\n",
    "    optimizer=optimizer,\n",
    "    criterion=criterion)\n",
    "\n",
    "trainer.run(loaders)"
   ]
  }
 ],
 "metadata": {
  "kernelspec": {
   "display_name": "Python 3",
   "language": "python",
   "name": "python3"
  },
  "language_info": {
   "codemirror_mode": {
    "name": "ipython",
    "version": 3
   },
   "file_extension": ".py",
   "mimetype": "text/x-python",
   "name": "python",
   "nbconvert_exporter": "python",
   "pygments_lexer": "ipython3",
   "version": "3.7.6"
  }
 },
 "nbformat": 4,
 "nbformat_minor": 4
}
