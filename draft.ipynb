{
 "cells": [
  {
   "cell_type": "code",
   "execution_count": 7,
   "metadata": {},
   "outputs": [],
   "source": [
    "import sys\n",
    "sys.path.append('..')\n",
    "\n",
    "import torch\n",
    "from torch.nn import BCELoss\n",
    "from torch.optim import Adam\n",
    "from torchvision.models import resnet18\n",
    "\n",
    "from lib.models import SimpleClassifier, ResNet\n",
    "from lib.trainer import Trainer\n",
    "from lib.utils import train_parse_args, get_data_loaders\n",
    "from lib.constants import HYPERPARAMETERS"
   ]
  },
  {
   "cell_type": "code",
   "execution_count": 8,
   "metadata": {},
   "outputs": [
    {
     "name": "stdout",
     "output_type": "stream",
     "text": [
      "{'batch_size': 8, 'checkpoints_dir': '/home/sergevkim/git/FacesClassification/checkpoints', 'checkpoint_filename': '', 'disable_cuda': False, 'imgs_dir': '/home/sergevkim/git/FacesClassification/data/CelebaHQ', 'label': 'Male', 'labels_filename': '/home/sergevkim/git/FacesClassification/data/list_attr_celeba.txt', 'logs_dir': '/home/sergevkim/git/FacesClassification/logs', 'n_epochs': 10, 'n_imgs': 30000, 'verbose': True, 'version': 0.2, 'device': device(type='cuda', index=0)}\n"
     ]
    }
   ],
   "source": [
    "params = HYPERPARAMETERS\n",
    "params['batch_size'] = 8\n",
    "params['verbose'] = True\n",
    "params['version'] = 0.2\n",
    "\n",
    "if not params['disable_cuda'] and torch.cuda.is_available():\n",
    "    params['device'] = torch.device('cuda:0')\n",
    "else:\n",
    "    params['device'] = torch.device('cpu')\n",
    "    \n",
    "print(params)"
   ]
  },
  {
   "cell_type": "code",
   "execution_count": null,
   "metadata": {},
   "outputs": [
    {
     "name": "stdout",
     "output_type": "stream",
     "text": [
      "0 0.75\n",
      "100 0.625\n",
      "200 0.375\n",
      "300 0.75\n",
      "! 0.5746666666666667\n",
      "EPOCH 1\n",
      "1 0 0.6832250296808893\n",
      "1 100 -31.17459607014838\n",
      "1 200 -45.283843058212504\n",
      "1 300 25.42614936453704\n",
      "1 400 -1.180168160916498\n",
      "1 500 12.528511071231407\n",
      "1 600 29.045723000147596\n",
      "1 700 17.55178737255345\n",
      "1 800 -16.22222279126888\n",
      "1 900 -0.3794932644671434\n",
      "1 1000 -18.52180241464996\n",
      "1 1100 20.52749872980266\n",
      "1 1200 5.311333655677739\n",
      "1 1300 42.01354883478426\n",
      "1 1400 -4.851733692269391\n",
      "1 1500 1.7327079926326174\n",
      "1 1600 -31.507779105240186\n",
      "1 1700 -45.58531573257632\n",
      "1 1800 47.08613968231177\n",
      "1 1900 33.941740052283905\n",
      "1 2000 -17.1968884499406\n",
      "1 2100 -32.21384096753629\n",
      "1 2200 -13.649475102677568\n",
      "1 2300 34.4882516907499\n",
      "1 2400 -29.20237589482871\n",
      "1 2500 0.019412050962507976\n",
      "1 2600 -15.884332190361357\n",
      "1 2700 -24.80496930276932\n",
      "1 2800 14.96028659446225\n",
      "1 2900 -32.797074323228095\n",
      "1 3000 31.472423995560447\n",
      "1 3100 0.2307672336668709\n",
      "1 3200 32.51789953857331\n",
      "1 3300 -48.37406539862506\n",
      "0 0.75\n",
      "100 0.625\n",
      "200 0.375\n",
      "300 0.75\n",
      "! 0.575\n",
      "Epoch time: -1266.5922405719757\n",
      "EPOCH 2\n",
      "2 0 -19.43159959825411\n",
      "2 100 -33.399307723998845\n",
      "2 200 -45.303503492575956\n",
      "2 300 25.445099362104045\n",
      "2 400 -1.1698179129897976\n",
      "2 500 12.549864772557303\n",
      "2 600 29.059659486240896\n",
      "2 700 17.544526592547022\n",
      "2 800 -16.23702384602154\n",
      "2 900 -0.3837690406133021\n",
      "2 1000 -18.53402806337146\n",
      "2 1100 20.51117655912375\n",
      "2 1200 5.299919626328883\n",
      "2 1300 42.0461831137145\n",
      "2 1400 -4.837366123545612\n",
      "2 1500 1.7242822534744944\n",
      "2 1600 -31.52957013006344\n",
      "2 1700 -45.628113750882655\n",
      "2 1800 47.133084756816764\n",
      "2 1900 33.95027303454687\n",
      "2 2000 -17.219147693059135\n",
      "2 2100 -32.272842386885664\n",
      "2 2200 -13.721010706056925\n",
      "2 2300 34.501713748349346\n",
      "2 2400 -29.274078855908705\n",
      "2 2500 0.012900319052668863\n",
      "2 2600 -15.889099131093602\n",
      "2 2700 -24.979686272331424\n",
      "2 2800 15.028206329662115\n",
      "2 2900 -32.84618663397522\n",
      "2 3000 31.543231442317786\n",
      "2 3100 0.2322120683365405\n",
      "2 3200 32.59740592242716\n",
      "2 3300 -48.418243885382076\n",
      "0 0.75\n",
      "100 0.625\n",
      "200 0.375\n",
      "300 0.75\n",
      "! 0.575\n",
      "Epoch time: -1252.7460010051727\n",
      "EPOCH 3\n",
      "3 0 -19.422572614348557\n",
      "3 100 -33.44019843382522\n",
      "3 200 -45.398406032403514\n",
      "3 300 25.542101852970955\n",
      "3 400 -1.1231155202316971\n",
      "3 500 12.660078544198186\n",
      "3 600 29.13276625205836\n",
      "3 700 17.510879006831725\n",
      "3 800 -16.30622816190616\n",
      "3 900 -0.40323257517671784\n",
      "3 1000 -18.585771087095967\n",
      "3 1100 20.436430001349166\n"
     ]
    }
   ],
   "source": [
    "loaders = get_data_loaders(\n",
    "    imgs_dir=params['imgs_dir'],\n",
    "    labels_filename=params['labels_filename'],\n",
    "    batch_size=params['batch_size'],\n",
    "    n_imgs=params['n_imgs'])\n",
    "\n",
    "model = ResNet()\n",
    "model.cuda()\n",
    "\n",
    "optimizer = Adam(model.parameters(), lr=3e-4)\n",
    "criterion = BCELoss()\n",
    "trainer = Trainer(params, model, optimizer, criterion)\n",
    "\n",
    "trainer.run(loaders)"
   ]
  },
  {
   "cell_type": "code",
   "execution_count": null,
   "metadata": {},
   "outputs": [],
   "source": [
    "from PIL import Image\n",
    "import numpy as np\n",
    "import matplotlib.pyplot as plt"
   ]
  },
  {
   "cell_type": "code",
   "execution_count": null,
   "metadata": {},
   "outputs": [],
   "source": [
    "a = np.array(Image.open(\"data/0.png\"))\n",
    "print(type(a))\n",
    "plt.imshow(a)"
   ]
  },
  {
   "cell_type": "code",
   "execution_count": null,
   "metadata": {},
   "outputs": [],
   "source": []
  },
  {
   "cell_type": "code",
   "execution_count": null,
   "metadata": {},
   "outputs": [],
   "source": []
  }
 ],
 "metadata": {
  "kernelspec": {
   "display_name": "Python 3",
   "language": "python",
   "name": "python3"
  },
  "language_info": {
   "codemirror_mode": {
    "name": "ipython",
    "version": 3
   },
   "file_extension": ".py",
   "mimetype": "text/x-python",
   "name": "python",
   "nbconvert_exporter": "python",
   "pygments_lexer": "ipython3",
   "version": "3.7.6"
  }
 },
 "nbformat": 4,
 "nbformat_minor": 4
}
